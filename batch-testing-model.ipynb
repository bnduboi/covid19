{
 "cells": [
  {
   "cell_type": "code",
   "execution_count": 79,
   "metadata": {
    "collapsed": true
   },
   "outputs": [],
   "source": [
    "%matplotlib inline\n",
    "import numpy as np\n",
    "import matplotlib.pyplot as plt\n",
    "import seaborn as sns"
   ]
  },
  {
   "cell_type": "code",
   "execution_count": 108,
   "metadata": {},
   "outputs": [
    {
     "data": {
      "text/plain": [
       "Text(0,0.5,'Count of occurences')"
      ]
     },
     "execution_count": 108,
     "metadata": {},
     "output_type": "execute_result"
    },
    {
     "data": {
      "image/png": "[encoded data removed]",
      "text/plain": [
       "<matplotlib.figure.Figure at 0x1a2156eb38>"
      ]
     },
     "metadata": {},
     "output_type": "display_data"
    }
   ],
   "source": [
    "## N = testing batch size\n",
    "N=100\n",
    "## s = expected % carriers\n",
    "s=0.05\n",
    "\n",
    "### option to vary the % carrier\n",
    "std_dev=s*0.10 \n",
    "## I chose to make the standard deviation of the % carriers 10% of its value. Feel free to put more nuanced estimates\n",
    "\n",
    "\n",
    "\n",
    "test_count_dist = []\n",
    "count = 0\n",
    "while count < 10000:\n",
    "    if std_dev:\n",
    "        s_normal = np.random.normal(s, std_dev)\n",
    "        per_run_test_count = run_test(N, s_normal)\n",
    "    else:\n",
    "        per_run_test_count = run_test(N, s)\n",
    "    test_count_dist.append(per_run_test_count)\n",
    "    count +=1\n",
    "\n",
    "sns.distplot(test_count_dist, kde=False)\n",
    "plt.title(\"Histogram of number of tests needed for a batch of size {},\\nassuming that {}% of testees are positive\\nAverage: {}\".format(N,int(s*100), np.round(np.average(test_count_dist), 2)))\n",
    "plt.xlabel(\"num PCR tests needed\")\n",
    "plt.ylabel(\"Count of occurences\")\n",
    "\n"
   ]
  },
  {
   "cell_type": "code",
   "execution_count": 102,
   "metadata": {},
   "outputs": [
    {
     "data": {
      "text/plain": [
       "array([ 0.20233746,  0.16936221,  0.20268431,  0.20417294,  0.21166253,\n",
       "        0.19919685,  0.22698124,  0.19171324,  0.23674902,  0.2185014 ,\n",
       "        0.19648461,  0.20134567,  0.17584292,  0.18515405,  0.21414403,\n",
       "        0.19113961,  0.22881906,  0.21198061,  0.22458879,  0.17299566])"
      ]
     },
     "execution_count": 102,
     "metadata": {},
     "output_type": "execute_result"
    }
   ],
   "source": [
    "s = 0.2\n",
    "\n",
    "np.random.normal(0.2, .02, 20)"
   ]
  },
  {
   "cell_type": "code",
   "execution_count": 72,
   "metadata": {},
   "outputs": [],
   "source": [
    "## Randomly assign members in our batch as positive or negative\n",
    "def run_test(N, s):\n",
    "    test_batch = np.zeros(N, dtype=int)\n",
    "    test_batch[:int(N*s)]  = 1\n",
    "    np.random.shuffle(test_batch)\n",
    "    num_tests = test_all(test_batch, 0)\n",
    "    return num_tests\n"
   ]
  },
  {
   "cell_type": "code",
   "execution_count": 73,
   "metadata": {
    "collapsed": true
   },
   "outputs": [],
   "source": [
    "## this function will simulate a test where first you combine all the samples, then\n",
    "## in the case where you have a positive hit, you break the sample in half and re-do \n",
    "## the test, until you have classified definitely each sample as positive or negative\n",
    "\n",
    "def test_all(test_batch, round_num):\n",
    "#     print(test_batch, round_num)\n",
    "    ##no tests on an empty array\n",
    "    if len(test_batch) == 0:\n",
    "        return round_num\n",
    "    \n",
    "    ## if all the tests are negative, no further testing needing\n",
    "    elif is_negative(test_batch):\n",
    "        return round_num + 1\n",
    "    \n",
    "    ## if the sample size is one, and the test is positive, no further testing needed\n",
    "    elif len(test_batch) == 1:\n",
    "        return round_num + 1\n",
    "    \n",
    "    ## else, split batch in two and test\n",
    "    else:\n",
    "        halfway = int(len(test_batch) / 2)\n",
    "        first_half_rounds = test_all(test_batch[:halfway], round_num)\n",
    "        second_half_rounds = test_all(test_batch[halfway:], round_num)\n",
    "        return first_half_rounds + second_half_rounds + 1\n",
    "\n",
    "    \n",
    "## simulates a negative result which corresponds to seeing no florescence in the PCR \n",
    "def is_negative(arr):\n",
    "    if sum(arr) == 0:\n",
    "        return True\n",
    "    else:\n",
    "        return False"
   ]
  },
  {
   "cell_type": "code",
   "execution_count": null,
   "metadata": {
    "collapsed": true
   },
   "outputs": [],
   "source": []
  },
  {
   "cell_type": "code",
   "execution_count": null,
   "metadata": {
    "collapsed": true
   },
   "outputs": [],
   "source": []
  },
  {
   "cell_type": "code",
   "execution_count": null,
   "metadata": {
    "collapsed": true
   },
   "outputs": [],
   "source": []
  },
  {
   "cell_type": "code",
   "execution_count": 66,
   "metadata": {},
   "outputs": [
    {
     "name": "stdout",
     "output_type": "stream",
     "text": [
      "True\n",
      "True\n",
      "True\n",
      "True\n",
      "True\n",
      "True\n",
      "True\n",
      "True\n",
      "True\n",
      "True\n",
      "True\n",
      "True\n",
      "True\n",
      "True\n",
      "True\n"
     ]
    }
   ],
   "source": [
    "## quality testing \n",
    "\n",
    "arr = []\n",
    "print(bool(test_all(np.asarray(arr), 0) == 0))\n",
    "\n",
    "arr = [0]\n",
    "print(bool(test_all(np.asarray(arr), 0) == 1))\n",
    "\n",
    "arr = [0,0]\n",
    "print(bool(test_all(np.asarray(arr), 0) == 1))\n",
    "\n",
    "arr = np.zeros(10, dtype=int)\n",
    "print(bool(test_all(np.asarray(arr), 0) == 1))\n",
    "\n",
    "arr = [1,0]\n",
    "print(bool(test_all(np.asarray(arr), 0) == 3))\n",
    "\n",
    "arr = [1,1]\n",
    "print(bool(test_all(np.asarray(arr), 0) == 3))\n",
    "\n",
    "\n",
    "arr = [1,1,0]\n",
    "print(bool(test_all(np.asarray(arr), 0) == 5))\n",
    "\n",
    "arr = [1,1,1]\n",
    "print(bool(test_all(np.asarray(arr), 0) == 5))\n",
    "\n",
    "\n",
    "arr = [0,1,1]\n",
    "print(bool(test_all(np.asarray(arr), 0) == 5))\n",
    "\n",
    "arr = [0,0,1]\n",
    "print(bool(test_all(np.asarray(arr), 0) == 5))\n",
    "\n",
    "arr = [1,0,0]\n",
    "print(bool(test_all(np.asarray(arr), 0) == 3))\n",
    "\n",
    "\n",
    "arr = [1,0,0,0]\n",
    "print(bool(test_all(np.asarray(arr), 0) == 5))\n",
    "\n",
    "arr = [0,0,0,0,1,0,0]\n",
    "print(bool(test_all(np.asarray(arr), 0) == 7))\n",
    "\n",
    "arr = [1,0,0,0,1,0,0]\n",
    "print(bool(test_all(np.asarray(arr), 0) == 9))\n",
    "\n",
    "arr = [1,1,1,1,1,1]\n",
    "print(bool(test_all(np.asarray(arr), 0) == 11))\n"
   ]
  },
  {
   "cell_type": "code",
   "execution_count": 26,
   "metadata": {
    "collapsed": true
   },
   "outputs": [],
   "source": []
  },
  {
   "cell_type": "code",
   "execution_count": 27,
   "metadata": {},
   "outputs": [
    {
     "data": {
      "text/plain": [
       "array([], dtype=float64)"
      ]
     },
     "execution_count": 27,
     "metadata": {},
     "output_type": "execute_result"
    }
   ],
   "source": []
  },
  {
   "cell_type": "code",
   "execution_count": 28,
   "metadata": {},
   "outputs": [
    {
     "data": {
      "text/plain": [
       "0"
      ]
     },
     "execution_count": 28,
     "metadata": {},
     "output_type": "execute_result"
    }
   ],
   "source": []
  },
  {
   "cell_type": "code",
   "execution_count": null,
   "metadata": {
    "collapsed": true
   },
   "outputs": [],
   "source": []
  }
 ],
 "metadata": {
  "kernelspec": {
   "display_name": "Python 3",
   "language": "python",
   "name": "python3"
  },
  "language_info": {
   "codemirror_mode": {
    "name": "ipython",
    "version": 3
   },
   "file_extension": ".py",
   "mimetype": "text/x-python",
   "name": "python",
   "nbconvert_exporter": "python",
   "pygments_lexer": "ipython3",
   "version": "3.6.3"
  }
 },
 "nbformat": 4,
 "nbformat_minor": 2
}
